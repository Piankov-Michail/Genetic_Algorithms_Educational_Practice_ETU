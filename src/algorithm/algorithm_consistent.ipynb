{
  "cells": [
    {
      "cell_type": "code",
      "execution_count": 2689,
      "metadata": {
        "id": "ZE8NOG_YwUT1"
      },
      "outputs": [],
      "source": [
        "import random\n",
        "import matplotlib.pyplot as plt\n",
        "import math"
      ]
    },
    {
      "cell_type": "code",
      "execution_count": 2690,
      "metadata": {
        "id": "7iKk9P3ewZ4p"
      },
      "outputs": [],
      "source": [
        "DEFAULT_LEFT_BORDER = -30\n",
        "DEFAULT_RIGHT_BORDER = 30\n",
        "\n",
        "DEFAULT_POLINOM = lambda x: -1*(143771*x)/120120 - (462029*x**2)/2402400 + (1371593*x**3)/72072000 + (35177*x**4)/48048000 - (31949*x**5)/655200000 - (3539*x**6)/6006000000 + (809*x**7)/25740000000\n",
        "\n",
        "POPULATION_SIZE = 15\n",
        "P_CROSSOVER = 0.7\n",
        "P_MUTATION = 0.1\n",
        "MAX_EPOCHS = 15\n",
        "ITERATIONS = 5\n",
        "\n",
        "DEFAULT_TOURNMENT_OPPONENTS = 3\n",
        "DEFAULT_ALPHA = 1\n",
        "\n",
        "DEFAULT_SIGMA_SHARE = (DEFAULT_RIGHT_BORDER - DEFAULT_LEFT_BORDER)/12 + 1"
      ]
    },
    {
      "cell_type": "code",
      "execution_count": 2691,
      "metadata": {
        "id": "4ugxdWH9wvSL"
      },
      "outputs": [],
      "source": [
        "class Individual:\n",
        "  def __init__(self, x: float) -> None:\n",
        "    self.value = x\n",
        "  def getValue(self) -> float:\n",
        "    return self.value\n",
        "  def __repr__(self) -> str:\n",
        "    return str(self.value)"
      ]
    },
    {
      "cell_type": "code",
      "execution_count": 2692,
      "metadata": {
        "id": "iAm8JahAxGIt"
      },
      "outputs": [],
      "source": [
        "def createIndividual(x: float) -> Individual:\n",
        "  return Individual(x)\n",
        "\n",
        "def createPopulation(n: int, l: float, r: float):\n",
        "    population= []\n",
        "\n",
        "    interval_length = r - l\n",
        "    step = interval_length / n\n",
        "    current = l\n",
        "    while(current < r):\n",
        "      population.append(createIndividual(current))\n",
        "      current += step\n",
        "    return population\n",
        "\n",
        "def mutation(individual: Individual) -> None:\n",
        "  temp = individual.getValue()\n",
        "  value = temp + random.uniform(-2, 2)\n",
        "  value = max(min(value, DEFAULT_RIGHT_BORDER), DEFAULT_LEFT_BORDER)\n",
        "  individual.value = value\n",
        "\n",
        "def crossFunc(first: Individual, second: Individual, alpha=DEFAULT_ALPHA) -> Individual:\n",
        "  x = first.getValue()\n",
        "  if random.random() < 0.5:\n",
        "    x = second.getValue()\n",
        "  left_border = x - alpha\n",
        "  right_border = x + alpha\n",
        "\n",
        "  child_value = random.uniform(left_border, right_border)\n",
        "\n",
        "  child_value = max(min(child_value, DEFAULT_RIGHT_BORDER), DEFAULT_LEFT_BORDER)\n",
        "\n",
        "  return Individual(child_value)"
      ]
    },
    {
      "cell_type": "code",
      "execution_count": 2693,
      "metadata": {
        "id": "n9epTpLwwpkE"
      },
      "outputs": [],
      "source": [
        "class GenAlgorithm:\n",
        "  def __init__(self, population_size=POPULATION_SIZE, p_crossover=P_CROSSOVER,\\\n",
        "               p_mutation=P_MUTATION, max_epochs=MAX_EPOCHS, function=DEFAULT_POLINOM, \\\n",
        "               left_border=DEFAULT_LEFT_BORDER, right_border=DEFAULT_RIGHT_BORDER) -> None:\n",
        "    self.population_size = population_size\n",
        "    self.p_crossover = p_crossover\n",
        "    self.p_mutation = p_mutation\n",
        "    self.max_epochs = max_epochs\n",
        "\n",
        "    self.function = function\n",
        "    self.left_border = left_border\n",
        "    self.right_border = right_border\n",
        "\n",
        "    self.history_x = []\n",
        "    self.history_y = []\n",
        "    self.history_max = []\n",
        "    self.population = None\n",
        "\n",
        "  def fitnessFunc(self, individual: Individual, sigma_share=DEFAULT_SIGMA_SHARE) -> float:\n",
        "    value = self.function(individual.getValue())\n",
        "    fine = 0.0\n",
        "    for maximum in self.history_max:\n",
        "      if math.fabs(maximum[0] - individual.getValue()) < sigma_share:\n",
        "        fine += (DEFAULT_RIGHT_BORDER - DEFAULT_LEFT_BORDER)*2 / (math.fabs(maximum[0] - individual.getValue()) + 0.001)\n",
        "\n",
        "    return value - fine\n",
        "\n",
        "  def tournmentSelection(self, population, n=DEFAULT_TOURNMENT_OPPONENTS):\n",
        "    selected = []\n",
        "    for _ in range(self.population_size):\n",
        "      participants = random.sample(population, n)\n",
        "      best_ind = max(participants, key=lambda ind: self.fitnessFunc(ind))\n",
        "      selected.append(best_ind)\n",
        "    return selected\n",
        "\n",
        "  def findLocalMax(self, ans):\n",
        "    result = None\n",
        "    ans = sorted(ans, key=lambda x: x[0])\n",
        "    for i in range(1, len(ans) - 1):\n",
        "      if ans[i-1][1] < ans[i][1] > ans[i+1][1]:\n",
        "        result = ans[i]\n",
        "    return result\n",
        "\n",
        "\n",
        "  def fit(self):\n",
        "    self.population = createPopulation(self.population_size, self.left_border, self.right_border)\n",
        "\n",
        "    self.history_x.append([ind.getValue() for ind in self.population])\n",
        "    self.history_y.append([self.function(ind.getValue()) for ind in self.population])\n",
        "\n",
        "    state = []\n",
        "    i = 0\n",
        "    while(i < self.max_epochs):\n",
        "\n",
        "      best_ind = self.tournmentSelection(self.population)\n",
        "      best_ind_shuffled = self.tournmentSelection(self.population)\n",
        "      random.shuffle(best_ind_shuffled)\n",
        "\n",
        "      childs = []\n",
        "      for j in range(self.population_size):\n",
        "        if random.random() < self.p_crossover:\n",
        "          childs.append(crossFunc(best_ind[j], best_ind_shuffled[j]))\n",
        "\n",
        "      childs_length = len(childs)\n",
        "      add = set()\n",
        "      while(childs_length) < self.population_size:\n",
        "        choise = random.choice(self.population)\n",
        "\n",
        "        if not(choise in add):\n",
        "          add.add(choise)\n",
        "          childs_length += 1\n",
        "\n",
        "      self.population = childs + list(add)\n",
        "\n",
        "      for j in range(self.population_size):\n",
        "        if random.random() < self.p_mutation:\n",
        "          mutation(self.population[j])\n",
        "\n",
        "      self.history_x.append([ind.getValue() for ind in self.population])\n",
        "      self.history_y.append([self.function(ind.getValue()) for ind in self.population])\n",
        "\n",
        "      i += 1\n",
        "\n",
        "    local_ans = [(self.population[i].getValue(), self.function(self.population[i].getValue())) for i in range(self.population_size)]\n",
        "    found_max = max(local_ans, key=lambda x: x[1])\n",
        "    found_local_max = self.findLocalMax(local_ans)\n",
        "\n",
        "    total_ans = None\n",
        "    if found_local_max != None and found_max[1] == found_local_max[1]:\n",
        "      total_ans = found_max\n",
        "      self.history_max.append(found_max)\n",
        "\n",
        "    return total_ans"
      ]
    },
    {
      "cell_type": "code",
      "execution_count": 2694,
      "metadata": {
        "id": "PFsaQif_RGdE"
      },
      "outputs": [],
      "source": [
        "def getFunctionDots(n: int, l: float, r: float, func):\n",
        "    interval_length = r - l\n",
        "    step = interval_length / n\n",
        "    current = l\n",
        "    x = []\n",
        "    y = []\n",
        "    while(current < r):\n",
        "      x.append(current)\n",
        "      y.append(func(current))\n",
        "      current += step\n",
        "    return x, y"
      ]
    },
    {
      "cell_type": "code",
      "execution_count": 2695,
      "metadata": {
        "colab": {
          "base_uri": "https://localhost:8080/"
        },
        "id": "9IGxtxCjQIl0",
        "outputId": "1911920c-a745-4352-8bd9-b37742443b83"
      },
      "outputs": [
        {
          "output_type": "stream",
          "name": "stderr",
          "text": [
            "/tmp/ipython-input-2695-903091672.py:35: DeprecationWarning: Starting with ImageIO v3 the behavior of this function will switch to that of iio.v3.imread. To keep the current behavior (and make this warning disappear) use `import imageio.v2 as imageio` or call `imageio.v2.imread` directly.\n",
            "  images = [imageio.imread(filename) for filename in filenames]\n"
          ]
        },
        {
          "output_type": "stream",
          "name": "stdout",
          "text": [
            "(-27.03589408281677, 49.255398491222365)\n",
            "(21.134335833118733, 15.595836343660551)\n",
            "(-2.407421128806253, 1.5296814325300687)\n",
            "None\n",
            "None\n",
            "[(-27.03589408281677, 49.255398491222365), (21.134335833118733, 15.595836343660551), (-2.407421128806253, 1.5296814325300687)]\n"
          ]
        }
      ],
      "source": [
        "import os\n",
        "import imageio\n",
        "import shutil\n",
        "\n",
        "if __name__ == \"__main__\":\n",
        "\n",
        "  if not os.path.exists('frames'):\n",
        "    os.makedirs('frames')\n",
        "  else:\n",
        "    for file in os.listdir('frames'):\n",
        "      if file.endswith('.png'):\n",
        "        os.remove(os.path.join('frames', file))\n",
        "\n",
        "  random.seed(42)\n",
        "  A = GenAlgorithm()\n",
        "\n",
        "  global_ans = []\n",
        "\n",
        "  for j in range(ITERATIONS):\n",
        "    ans = A.fit()\n",
        "\n",
        "    os.makedirs(f'./frames_{j}', exist_ok=True)\n",
        "    for i in range(MAX_EPOCHS):\n",
        "      x, y = getFunctionDots(1000, DEFAULT_LEFT_BORDER, DEFAULT_RIGHT_BORDER, DEFAULT_POLINOM)\n",
        "      plt.plot(x, y, 'b')\n",
        "      plt.xlim(DEFAULT_LEFT_BORDER-abs(0.3*DEFAULT_LEFT_BORDER), DEFAULT_RIGHT_BORDER+abs(0.3*DEFAULT_RIGHT_BORDER))\n",
        "      plt.plot(A.history_x[i], A.history_y[i], 'ro')\n",
        "\n",
        "      filename = f'./frames_{j}/frame_{i}.png'\n",
        "      plt.savefig(filename)\n",
        "      plt.close()\n",
        "\n",
        "    filenames = sorted([f'./frames_{j}/frame_{i}.png' for i in range(MAX_EPOCHS)],\n",
        "                      key=lambda x: int(x.split('_')[-1].split('.')[0]))\n",
        "    images = [imageio.imread(filename) for filename in filenames]\n",
        "    imageio.mimsave(f'./animation_{j}.gif', images, fps=1)\n",
        "    A.history_x = []\n",
        "    A.history_y = []\n",
        "\n",
        "    shutil.rmtree(f'./frames_{j}')\n",
        "    print(ans)\n",
        "\n",
        "  print(A.history_max)\n",
        "\n",
        "  shutil.rmtree(f'./frames')"
      ]
    }
  ],
  "metadata": {
    "colab": {
      "provenance": []
    },
    "kernelspec": {
      "display_name": "ai_jupyter_kernel",
      "language": "python",
      "name": "ai_jupyter_kernel"
    },
    "language_info": {
      "codemirror_mode": {
        "name": "ipython",
        "version": 3
      },
      "file_extension": ".py",
      "mimetype": "text/x-python",
      "name": "python",
      "nbconvert_exporter": "python",
      "pygments_lexer": "ipython3",
      "version": "3.12.3"
    }
  },
  "nbformat": 4,
  "nbformat_minor": 0
}